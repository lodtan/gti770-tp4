{
 "cells": [
  {
   "cell_type": "code",
   "execution_count": 6,
   "metadata": {
    "collapsed": true
   },
   "outputs": [],
   "source": [
    "import pandas as pd\n",
    "import csv\n",
    "import numpy as np\n",
    "from sklearn.decomposition import PCA"
   ]
  },
  {
   "cell_type": "code",
   "execution_count": 2,
   "metadata": {
    "collapsed": true
   },
   "outputs": [],
   "source": [
    "from sklearn.model_selection import train_test_split, cross_val_score , GridSearchCV , StratifiedShuffleSplit\n",
    "from sklearn.svm import SVC"
   ]
  },
  {
   "cell_type": "code",
   "execution_count": 3,
   "metadata": {},
   "outputs": [
    {
     "name": "stderr",
     "output_type": "stream",
     "text": [
      "Using TensorFlow backend.\n"
     ]
    }
   ],
   "source": [
    "from benchmark.mlp import MLP\n",
    "from sklearn.metrics import confusion_matrix\n",
    "import numpy as np\n",
    "from benchmark.benchmark import plot_confusion_matrix , get_scores\n",
    "import matplotlib.pyplot as plt\n",
    "import pandas as pd\n",
    "from benchmark.processor import AudioProcessor\n",
    "from sklearn.preprocessing import StandardScaler\n",
    "path='./music'"
   ]
  },
  {
   "cell_type": "code",
   "execution_count": 4,
   "metadata": {
    "collapsed": true
   },
   "outputs": [],
   "source": [
    "from benchmark.mlp import MLP\n",
    "from sklearn.metrics import confusion_matrix\n",
    "import numpy as np\n",
    "from benchmark.benchmark import plot_confusion_matrix , get_scores\n",
    "import matplotlib.pyplot as plt\n",
    "import pandas as pd\n",
    "from benchmark.processor import AudioProcessor\n",
    "from sklearn.preprocessing import StandardScaler\n",
    "path='./music'"
   ]
  },
  {
   "cell_type": "code",
   "execution_count": 9,
   "metadata": {},
   "outputs": [
    {
     "name": "stdout",
     "output_type": "stream",
     "text": [
      "[INFO] Reading dataset lpc\n",
      "[INFO] Reading attributes lpc\n",
      "[INFO] Labels format : (179555, 25)\n",
      "[INFO] Features format : (179555, 20)\n",
      "[INFO] Splitting dataset lpc\n",
      "[INFO] Labels format : (179555, 25)\n",
      "[INFO] Features format : (143644, 20)\n",
      "[INFO] Scaler : removing the mean and scaling to unit variance"
     ]
    },
    {
     "name": "stderr",
     "output_type": "stream",
     "text": [
      "/Users/jslecointre/anaconda/envs/gti770/lib/python3.6/site-packages/sklearn/utils/validation.py:590: DataConversionWarning: Data with input dtype object was converted to float64 by StandardScaler.\n",
      "  warnings.warn(msg, DataConversionWarning)\n",
      "/Users/jslecointre/anaconda/envs/gti770/lib/python3.6/site-packages/sklearn/utils/validation.py:590: DataConversionWarning: Data with input dtype object was converted to float64 by StandardScaler.\n",
      "  warnings.warn(msg, DataConversionWarning)\n",
      "/Users/jslecointre/anaconda/envs/gti770/lib/python3.6/site-packages/sklearn/utils/validation.py:590: DataConversionWarning: Data with input dtype object was converted to float64 by StandardScaler.\n",
      "  warnings.warn(msg, DataConversionWarning)\n",
      "/Users/jslecointre/anaconda/envs/gti770/lib/python3.6/site-packages/sklearn/utils/validation.py:590: DataConversionWarning: Data with input dtype object was converted to float64 by StandardScaler.\n",
      "  warnings.warn(msg, DataConversionWarning)\n"
     ]
    },
    {
     "name": "stdout",
     "output_type": "stream",
     "text": [
      "\n",
      "init MLPs for lpc dataset\n",
      "Classes :  ['BIG_BAND' 'BLUES_CONTEMPORARY' 'COUNTRY_TRADITIONAL' 'DANCE'\n",
      " 'ELECTRONICA' 'EXPERIMENTAL' 'FOLK_INTERNATIONAL' 'GOSPEL' 'GRUNGE_EMO'\n",
      " 'HIP_HOP_RAP' 'JAZZ_CLASSIC' 'METAL_ALTERNATIVE' 'METAL_DEATH'\n",
      " 'METAL_HEAVY' 'POP_CONTEMPORARY' 'POP_INDIE' 'POP_LATIN' 'PUNK' 'REGGAE'\n",
      " 'RNB_SOUL' 'ROCK_ALTERNATIVE' 'ROCK_COLLEGE' 'ROCK_CONTEMPORARY'\n",
      " 'ROCK_HARD' 'ROCK_NEO_PSYCHEDELIA']\n"
     ]
    }
   ],
   "source": [
    "#dataset='marsyas'\n",
    "dataset='lpc'\n",
    "#dataset='mfcc'\n",
    "#dataset='derivatives'\n",
    "myprocessor = AudioProcessor(dataset, path)\n",
    "X_train, X_test, Y_train, Y_test = myprocessor.get_split_dataset()\n",
    "X_train, X_test = myprocessor.scale_dataset(X_train, X_test)\n",
    "print('init MLPs for {0} dataset'.format(dataset))\n",
    "categories = myprocessor.inputs_le.inverse_transform(range(0, 25))\n",
    "print('Classes :  {0}'.format(categories))\n",
    "\n",
    "# mlp = MLP(X_train, X_test, Y_train, Y_test,selected_datasets[mlp_model], path)\n",
    "# print(selected_datasets[mlp_model],selected_mlp_type[mlp_model])\n",
    "\n",
    "# # Labeled data\n",
    "# y_pred = mlp.predict_deep_model() if selected_mlp_type[mlp_model] == 'deep' else mlp.predict_wide_model()\n",
    "# print(y_pred.shape)\n",
    "# predictions.append(y_pred)"
   ]
  },
  {
   "cell_type": "code",
   "execution_count": 14,
   "metadata": {},
   "outputs": [
    {
     "name": "stdout",
     "output_type": "stream",
     "text": [
      "(143644, 20)\n"
     ]
    }
   ],
   "source": [
    "data=X_train\n",
    "print(X_train.shape)"
   ]
  },
  {
   "cell_type": "code",
   "execution_count": 20,
   "metadata": {},
   "outputs": [
    {
     "data": {
      "text/plain": [
       "GridSearchCV(cv=2, error_score='raise-deprecating',\n",
       "       estimator=SVC(C=1.0, cache_size=2048, class_weight=None, coef0=0.0,\n",
       "  decision_function_shape='ovr', degree=3, gamma='auto_deprecated',\n",
       "  kernel='rbf', max_iter=-1, probability=False, random_state=None,\n",
       "  shrinking=True, tol=0.001, verbose=False),\n",
       "       fit_params=None, iid='warn', n_jobs=6,\n",
       "       param_grid={'kernel': ['rbf'], 'C': [0.001, 0.1, 10], 'gamma': [0.001, 0.1, 10]},\n",
       "       pre_dispatch='2*n_jobs', refit=True, return_train_score='warn',\n",
       "       scoring='accuracy', verbose=4)"
      ]
     },
     "execution_count": 20,
     "metadata": {},
     "output_type": "execute_result"
    }
   ],
   "source": [
    "grid_rbf"
   ]
  },
  {
   "cell_type": "code",
   "execution_count": 16,
   "metadata": {},
   "outputs": [
    {
     "name": "stdout",
     "output_type": "stream",
     "text": [
      "(143644, 8)\n"
     ]
    }
   ],
   "source": [
    "pca = PCA(0.9, svd_solver = 'full')\n",
    "principalComponents = pca.fit_transform(data)\n",
    "print(principalComponents.shape)"
   ]
  },
  {
   "cell_type": "code",
   "execution_count": 19,
   "metadata": {},
   "outputs": [
    {
     "name": "stdout",
     "output_type": "stream",
     "text": [
      "Fitting 2 folds for each of 9 candidates, totalling 18 fits\n"
     ]
    },
    {
     "name": "stderr",
     "output_type": "stream",
     "text": [
      "[Parallel(n_jobs=6)]: Using backend LokyBackend with 6 concurrent workers.\n",
      "[Parallel(n_jobs=6)]: Done  12 out of  18 | elapsed: 185.0min remaining: 92.5min\n",
      "[Parallel(n_jobs=6)]: Done  18 out of  18 | elapsed: 258.3min finished\n"
     ]
    },
    {
     "name": "stdout",
     "output_type": "stream",
     "text": [
      "RBF : The best hyperparameters are {'C': 10, 'gamma': 0.1, 'kernel': 'rbf'} with a score of 0.19\n"
     ]
    }
   ],
   "source": [
    "def grid_search_rbf(X_valid, Y_valid,k, jobs, cache_size):\n",
    "\n",
    "    svc = SVC(cache_size=cache_size)\n",
    "    param_grid_rbf = {'kernel': ['rbf'], 'C': [10 ** (-3), 10 ** (-1), 10], 'gamma': [10 ** (-3), 10 ** (-1), 10]}\n",
    "    grid_rbf = GridSearchCV(svc, param_grid=param_grid_rbf, cv=k, n_jobs=jobs, scoring='accuracy', verbose=4)\n",
    "\n",
    "    grid_rbf.fit(X_valid, Y_valid)\n",
    "\n",
    "    print(\"RBF : The best hyperparameters are %s with a score of %0.2f\" % (grid_rbf.best_params_, grid_rbf.best_score_))\n",
    "\n",
    "    return grid_rbf\n",
    "\n",
    "grid_rbf = grid_search_rbf(principalComponents, Y_valid, 2, jobs, cache_size)"
   ]
  },
  {
   "cell_type": "code",
   "execution_count": 18,
   "metadata": {
    "collapsed": true
   },
   "outputs": [],
   "source": [
    "jobs = 6\n",
    "cache_size=2048\n",
    "k=5\n",
    "svc = SVC(cache_size=cache_size)\n",
    "\n",
    "X_valid=principalComponents\n",
    "Y_valid=np.argmax(Y_train, axis=1)"
   ]
  },
  {
   "cell_type": "code",
   "execution_count": 20,
   "metadata": {},
   "outputs": [
    {
     "data": {
      "text/plain": [
       "(143644,)"
      ]
     },
     "execution_count": 20,
     "metadata": {},
     "output_type": "execute_result"
    }
   ],
   "source": [
    "Y_valid.shape"
   ]
  },
  {
   "cell_type": "code",
   "execution_count": 21,
   "metadata": {},
   "outputs": [
    {
     "data": {
      "text/plain": [
       "(143644, 124)"
      ]
     },
     "execution_count": 21,
     "metadata": {},
     "output_type": "execute_result"
    }
   ],
   "source": [
    "X_valid.shape"
   ]
  },
  {
   "cell_type": "code",
   "execution_count": null,
   "metadata": {
    "collapsed": true
   },
   "outputs": [],
   "source": [
    "def grid_search_linear(X_valid, Y_valid,k, jobs, cache_size):\n",
    "\n",
    "    svc = SVC(cache_size=cache_size)\n",
    "\n",
    "    param_grid_linear = {'kernel': ['linear'], 'C': [10 ** (-3), 10 ** (-1), 1, 10],'class_weight': ['balanced'],'gamma': ['scale']}\n",
    "\n",
    "    grid_linear = GridSearchCV(svc, param_grid=param_grid_linear, cv=k, n_jobs=jobs, scoring='accuracy', verbose=4)\n",
    "    grid_linear.fit(X_valid, Y_valid)\n",
    "\n",
    "    print(\"LINEAR : The best hyperparameters are %s with a score of %0.2f\" % (grid_linear.best_params_, grid_linear.best_score_))\n",
    "    \n",
    "    return grid_linear\n",
    "\n",
    "\n",
    "grid_linear = grid_search_linear(X_valid, Y_valid, k, jobs, cache_size)"
   ]
  },
  {
   "cell_type": "code",
   "execution_count": null,
   "metadata": {
    "collapsed": true
   },
   "outputs": [],
   "source": [
    "df_lin=pd.DataFrame(grid_linear.cv_results_['mean_fit_time'],index=[x['C'] for x  in grid_linear.cv_results_['params']],columns=['temps moyen du fit'])\n",
    "df_lin.index.name='C'\n",
    "df_lin"
   ]
  },
  {
   "cell_type": "code",
   "execution_count": null,
   "metadata": {},
   "outputs": [
    {
     "name": "stdout",
     "output_type": "stream",
     "text": [
      "Fitting 2 folds for each of 16 candidates, totalling 32 fits\n"
     ]
    },
    {
     "name": "stderr",
     "output_type": "stream",
     "text": [
      "[Parallel(n_jobs=6)]: Using backend LokyBackend with 6 concurrent workers.\n",
      "[Parallel(n_jobs=6)]: Done  13 tasks      | elapsed: 649.8min\n"
     ]
    }
   ],
   "source": [
    "def grid_search_rbf(X_valid, Y_valid,k, jobs, cache_size):\n",
    "\n",
    "    svc = SVC(cache_size=cache_size)\n",
    "    param_grid_rbf = {'kernel': ['rbf'], 'C': [10 ** (-3), 10 ** (-1), 10], 'gamma': [10 ** (-3), 10 ** (-1), 10]}\n",
    "    grid_rbf = GridSearchCV(svc, param_grid=param_grid_rbf, cv=k, n_jobs=jobs, scoring='accuracy', verbose=4)\n",
    "\n",
    "    grid_rbf.fit(X_valid, Y_valid)\n",
    "\n",
    "    print(\"RBF : The best hyperparameters are %s with a score of %0.2f\" % (grid_rbf.best_params_, grid_rbf.best_score_))\n",
    "\n",
    "    return grid_rbf\n",
    "\n",
    "grid_rbf = grid_search_rbf(X_valid, Y_valid, 2, jobs, cache_size)"
   ]
  },
  {
   "cell_type": "code",
   "execution_count": null,
   "metadata": {
    "collapsed": true
   },
   "outputs": [],
   "source": [
    "gammas = [x['gamma'] for x  in grid_rbf.cv_results_['params']]\n",
    "C_values=[x['C'] for x  in grid_rbf.cv_results_['params']]\n",
    "fit_time = grid_rbf.cv_results_['mean_fit_time']\n",
    "accuracies=grid_rbf.cv_results_['mean_test_score']\n",
    "\n",
    "C_range=[10 ** (-3), 10 ** (-1), 1, 10]\n",
    "gamma_range=[10 ** (-3), 10 ** (-1), 1, 10]\n",
    "\n",
    "grid=grid_rbf\n",
    "# We extract just the scores\n",
    "scores = grid.cv_results_['mean_test_score']\n",
    "scores = np.array(scores).reshape(len(C_range), len(gamma_range))\n",
    "\n",
    "# Make a nice figure\n",
    "plt.figure(figsize=(8, 6))\n",
    "plt.subplots_adjust(left=0.15, right=0.95, bottom=0.15, top=0.95)\n",
    "plt.imshow(scores, interpolation='nearest',cmap='Greens' )\n",
    "plt.xlabel('gamma')\n",
    "plt.ylabel('C')\n",
    "plt.title('Accuracy  pour SVM non lineaire avec fonction noyau RBF SVM')\n",
    "plt.colorbar()\n",
    "plt.xticks(np.arange(len(gamma_range)), gamma_range, rotation=45)\n",
    "plt.yticks(np.arange(len(C_range)), C_range)\n",
    "plt.show()\n",
    "\n",
    "df=pd.DataFrame(list(zip(gammas,accuracies,C_values)),columns=['gamma','','C'])\n",
    "df.pivot_table(columns=['gamma'],index=['C'])"
   ]
  }
 ],
 "metadata": {
  "kernelspec": {
   "display_name": "Python 3",
   "language": "python",
   "name": "python3"
  },
  "language_info": {
   "codemirror_mode": {
    "name": "ipython",
    "version": 3
   },
   "file_extension": ".py",
   "mimetype": "text/x-python",
   "name": "python",
   "nbconvert_exporter": "python",
   "pygments_lexer": "ipython3",
   "version": "3.6.7"
  }
 },
 "nbformat": 4,
 "nbformat_minor": 2
}
