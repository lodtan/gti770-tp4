{
 "cells": [
  {
   "cell_type": "code",
   "execution_count": 1,
   "metadata": {},
   "outputs": [],
   "source": [
    "import numpy as np\n",
    "import csv\n",
    "import pandas as pd\n",
    "import matplotlib.pyplot as plt\n",
    "from sklearn.model_selection import train_test_split\n",
    "from sklearn.preprocessing import normalize, StandardScaler\n",
    "import tensorflow as tf\n",
    "from tensorflow.python.client import device_lib\n",
    "from tensorflow import keras\n",
    "from keras import backend as K\n",
    "from keras.models import load_model\n",
    "\n",
    "print(device_lib.list_local_devices())"
   ]
  },
  {
   "cell_type": "code",
   "execution_count": 3,
   "metadata": {},
   "outputs": [],
   "source": [
    "categories = ('BIG_BAND', 'BLUES_CONTEMPORARY', 'COUNTRY_TRADITIONAL', 'DANCE', 'ELECTRONICA', 'EXPERIMENTAL',\n",
    "              'FOLK_INTERNATIONAL', 'GOSPEL', 'GRUNGE_EMO', 'HIP_HOP_RAP', 'JAZZ_CLASSIC', 'METAL_ALTERNATIVE',\n",
    "              'METAL_DEATH', 'METAL_HEAVY', 'POP_CONTEMPORARY', 'POP_INDIE', 'POP_LATIN', 'PUNK', 'REGGAE',\n",
    "              'RNB_SOUL', 'ROCK_ALTERNATIVE', 'ROCK_COLLEGE', 'ROCK_CONTEMPORARY', 'ROCK_HARD', 'ROCK_NEO_PSYCHEDELIA')\n",
    "Datasets = ['derivatives', 'lpc', 'mfccs', 'moments', 'spectral', 'marsyas', 'mvd', 'rh', 'ssd', 'trh']"
   ]
  },
  {
   "cell_type": "code",
   "execution_count": null,
   "metadata": {},
   "outputs": [],
   "source": [
    "def untagged_dataset(dataset):\n",
    "    print(\"[INFO] loading untagged {0} dataset ...\".format(dataset))\n",
    "    if dataset in ('derivatives', 'lpc', 'mfccs', 'moments', 'spectral'):\n",
    "        dataset = 'jmir'+dataset\n",
    "    if dataset == 'marsyas' :\n",
    "        new = 'new_'\n",
    "    else :\n",
    "        new = ''\n",
    "    features = pd.read_csv('untagged_feature_sets/msd-'+dataset+'_test_'+new+'nolabels/msd-'+dataset+'_test_'+new+'nolabels.csv',\n",
    "                                      delimiter=',', header=None).values[:, 2:-1]\n",
    "    IDs = pd.read_csv('untagged_feature_sets/msd-'+dataset+'_test_'+new+'nolabels/msd-'+dataset+'_test_'+new+'nolabels.csv',\n",
    "                                      delimiter=',', header=None).values[:, 1]\n",
    "    np.asarray(features)\n",
    "    np.asarray(IDs)\n",
    "    print(\"[INFO] Features format : {0}\".format(features.shape))\n",
    "    print(\"[INFO] IDs format : {0}\".format(IDs.shape))\n",
    "    return IDs, features"
   ]
  },
  {
   "cell_type": "code",
   "execution_count": null,
   "metadata": {},
   "outputs": [],
   "source": [
    "def predictMLP():\n",
    "    datasets = ['marsyas', 'ssd', 'derivatives']\n",
    "    for \n",
    "    model_name = 'ModelsMLP\\\\widePL'+Datasets[target_model[1]]+'.hdf5'\n",
    "    print(model_name)\n",
    "    model = load_model(model_name)\n",
    "    IDs, guess_X = untagged_dataset(Datasets[target_model[1]])\n",
    "    guess_X, guess_X, num_features = scaleDataset(guess_X, guess_X, num_features)\n",
    "    guess_Y = model.predict(guess_X)\n",
    "    guess_categories = []\n",
    "    for i in range(len(guess_Y)):\n",
    "        guess_categories.append(categories[np.argmax(guess_Y[i])])\n",
    "    print(guess_categories)\n",
    "    with open('result.csv', 'w', newline='') as csvfile:\n",
    "        filewriter = csv.writer(csvfile, delimiter=',')\n",
    "        filewriter.writerow(['id', 'genre'])\n",
    "        for i in range(len(IDs)):\n",
    "            filewriter.writerow([IDs[i], guess_categories[i]])"
   ]
  },
  {
   "cell_type": "code",
   "execution_count": null,
   "metadata": {},
   "outputs": [],
   "source": [
    "def decision(methode):\n",
    "    predict1 = pd.read_csv('MLPpredict.csv', delimiter=',', header=None).values[:, 1]\n",
    "    predict2 = pd.read_csv('MLPpredict.csv', delimiter=',', header=None).values[:, 2]\n",
    "    predict3 = pd.read_csv('MLPpredict.csv', delimiter=',', header=None).values[:, 3]\n",
    "    IDs = pd.read_csv('MLPpredict.csv', delimiter=',', header=None).values[:, 0]\n",
    "    "
   ]
  }
 ],
 "metadata": {
  "kernelspec": {
   "display_name": "Python 3",
   "language": "python",
   "name": "python3"
  },
  "language_info": {
   "codemirror_mode": {
    "name": "ipython",
    "version": 3
   },
   "file_extension": ".py",
   "mimetype": "text/x-python",
   "name": "python",
   "nbconvert_exporter": "python",
   "pygments_lexer": "ipython3",
   "version": "3.6.7"
  }
 },
 "nbformat": 4,
 "nbformat_minor": 2
}
