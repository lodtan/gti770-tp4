{
 "cells": [
  {
   "cell_type": "code",
   "execution_count": 21,
   "metadata": {},
   "outputs": [],
   "source": [
    "import numpy as np\n",
    "import csv\n",
    "import pandas as pd"
   ]
  },
  {
   "cell_type": "code",
   "execution_count": 22,
   "metadata": {},
   "outputs": [],
   "source": [
    "def MLPdecision(categories, methode):\n",
    "    predict1 = pd.read_csv('ResultatsCSV\\\\MLP_Predictions_unlabeled.csv', delimiter=',', header=None).values[:, 0:24]\n",
    "    predict2 = pd.read_csv('ResultatsCSV\\\\MLP_Predictions_unlabeled.csv', delimiter=',', header=None).values[:, 25:49]\n",
    "    predict3 = pd.read_csv('ResultatsCSV\\\\MLP_Predictions_unlabeled.csv', delimiter=',', header=None).values[:, 50:74]\n",
    "    IDs = pd.read_csv('ResultatsCSV\\\\MLP_Predictions_unlabeled.csv', delimiter=',', header=None).values[:, 75]\n",
    "    if methode=='sum':\n",
    "        sum_predict = np.add(predict1, np.add(predict2, predict3))\n",
    "    if methode=='max':\n",
    "        max_predict = np.maximum(predict1, np.maximum(predict2, predict3))\n",
    "    if methode=='min':\n",
    "        min_predict = np.minimum(predict1, np.minimum(predict2, predict3))\n",
    "    if methode in ('sum', 'max', 'min'):\n",
    "        with open('ResultatsCSV\\\\MLP_decision_unlabeled.csv', 'w', newline='') as csvfile:\n",
    "            filewriter = csv.writer(csvfile, delimiter=',')\n",
    "            filewriter.writerow(['id', 'genre'])\n",
    "            for i in range(len(IDs)):\n",
    "                filewriter.writerow([IDs[i], categories[np.argmax(sum_predict[i])]])"
   ]
  },
  {
   "cell_type": "code",
   "execution_count": 23,
   "metadata": {},
   "outputs": [],
   "source": [
    "def LDAdecision(categories, methode):\n",
    "    predict1 = pd.read_csv('ResultatsCSV\\\\LDA_Predictions_unlabeled.csv', delimiter=',', header=None).values[:, 0:24]\n",
    "    predict2 = pd.read_csv('ResultatsCSV\\\\LDA_Predictions_unlabeled.csv', delimiter=',', header=None).values[:, 25:49]\n",
    "    predict3 = pd.read_csv('ResultatsCSV\\\\LDA_Predictions_unlabeled.csv', delimiter=',', header=None).values[:, 50:74]\n",
    "    IDs = pd.read_csv('ResultatsCSV\\\\LDA_Predictions_unlabeled.csv', delimiter=',', header=None).values[:, 75]\n",
    "    if methode=='sum':\n",
    "        sum_predict = np.add(predict1, np.add(predict2, predict3))\n",
    "    if methode=='max':\n",
    "        max_predict = np.maximum(predict1, np.maximum(predict2, predict3))\n",
    "    if methode=='min':\n",
    "        min_predict = np.minimum(predict1, np.minimum(predict2, predict3))\n",
    "    if methode in ('sum', 'max', 'min'):\n",
    "        with open('ResultatsCSV\\\\LDA_decision_unlabeled.csv', 'w', newline='') as csvfile:\n",
    "            filewriter = csv.writer(csvfile, delimiter=',')\n",
    "            filewriter.writerow(['id', 'genre'])\n",
    "            for i in range(len(IDs)):\n",
    "                filewriter.writerow([IDs[i], categories[np.argmax(sum_predict[i])]])"
   ]
  },
  {
   "cell_type": "code",
   "execution_count": 24,
   "metadata": {},
   "outputs": [],
   "source": [
    "def SVMdecision(categories, methode):\n",
    "    predict1 = pd.read_csv('ResultatsCSV\\\\SVM_Predictions_unlabeled.csv', delimiter=',', header=None).values[:, 0:24]\n",
    "    predict2 = pd.read_csv('ResultatsCSV\\\\SVM_Predictions_unlabeled.csv', delimiter=',', header=None).values[:, 25:49]\n",
    "    predict3 = pd.read_csv('ResultatsCSV\\\\SVM_Predictions_unlabeled.csv', delimiter=',', header=None).values[:, 50:74]\n",
    "    IDs = pd.read_csv('ResultatsCSV\\\\SVM_Predictions_unlabeled.csv', delimiter=',', header=None).values[:, 75]\n",
    "    if methode=='sum':\n",
    "        sum_predict = np.add(predict1, np.add(predict2, predict3))\n",
    "    if methode=='max':\n",
    "        max_predict = np.maximum(predict1, np.maximum(predict2, predict3))\n",
    "    if methode=='min':\n",
    "        min_predict = np.minimum(predict1, np.minimum(predict2, predict3))\n",
    "    if methode in ('sum', 'max', 'min'):\n",
    "        with open('ResultatsCSV\\\\SVM_decision_unlabeled.csv', 'w', newline='') as csvfile:\n",
    "            filewriter = csv.writer(csvfile, delimiter=',')\n",
    "            filewriter.writerow(['id', 'genre'])\n",
    "            for i in range(len(IDs)):\n",
    "                filewriter.writerow([IDs[i], categories[np.argmax(sum_predict[i])]])"
   ]
  },
  {
   "cell_type": "code",
   "execution_count": 25,
   "metadata": {},
   "outputs": [],
   "source": [
    "def totalDecision(categories, methode):\n",
    "    predict1 = pd.read_csv('ResultatsCSV\\\\SVM_Predictions_unlabeled.csv', delimiter=',', header=None).values[:, 0:24]\n",
    "    predict2 = pd.read_csv('ResultatsCSV\\\\SVM_Predictions_unlabeled.csv', delimiter=',', header=None).values[:, 25:49]\n",
    "    predict3 = pd.read_csv('ResultatsCSV\\\\SVM_Predictions_unlabeled.csv', delimiter=',', header=None).values[:, 50:74]\n",
    "    predict4 = pd.read_csv('ResultatsCSV\\\\LDA_Predictions_unlabeled.csv', delimiter=',', header=None).values[:, 0:24]\n",
    "    predict5 = pd.read_csv('ResultatsCSV\\\\LDA_Predictions_unlabeled.csv', delimiter=',', header=None).values[:, 25:49]\n",
    "    predict6 = pd.read_csv('ResultatsCSV\\\\LDA_Predictions_unlabeled.csv', delimiter=',', header=None).values[:, 50:74]\n",
    "    predict7 = pd.read_csv('ResultatsCSV\\\\MLP_Predictions_unlabeled.csv', delimiter=',', header=None).values[:, 0:24]\n",
    "    predict8 = pd.read_csv('ResultatsCSV\\\\MLP_Predictions_unlabeled.csv', delimiter=',', header=None).values[:, 25:49]\n",
    "    predict9 = pd.read_csv('ResultatsCSV\\\\MLP_Predictions_unlabeled.csv', delimiter=',', header=None).values[:, 50:74]\n",
    "    IDs = pd.read_csv('ResultatsCSV\\\\SVM_Predictions_unlabeled.csv', delimiter=',', header=None).values[:, 75]\n",
    "    if methode=='sum':\n",
    "        sum_predict = np.add(predict1, np.add(predict2, np.add(predict3, np.add(predict4, np.add(predict5, np.add(predict6, \n",
    "                             np.add(predict7, np.add(predict8, predict9))))))))\n",
    "    if methode=='max':\n",
    "        max_predict = np.maximum(predict1, np.maximum(predict2, np.maximum(predict3, np.maximum(predict4, np.maximum(predict5, np.maximum(predict6, \n",
    "                             np.maximum(predict7, np.maximum(predict8, predict9))))))))\n",
    "    if methode=='min':\n",
    "        min_predict = np.minimum(predict1, np.minimum(predict2, np.minimum(predict3, np.minimum(predict4, np.minimum(predict5, np.minimum(predict6, \n",
    "                             np.minimum(predict7, np.minimum(predict8, predict9))))))))\n",
    "    if methode in ('sum', 'max', 'min'):\n",
    "        with open('ResultatsCSV\\\\total_decision_unlabeled.csv', 'w', newline='') as csvfile:\n",
    "            filewriter = csv.writer(csvfile, delimiter=',')\n",
    "            filewriter.writerow(['id', 'genre'])\n",
    "            for i in range(len(IDs)):\n",
    "                filewriter.writerow([IDs[i], categories[np.argmax(sum_predict[i])]])"
   ]
  },
  {
   "cell_type": "code",
   "execution_count": 17,
   "metadata": {},
   "outputs": [],
   "source": [
    "categories = ('BIG_BAND', 'BLUES_CONTEMPORARY', 'COUNTRY_TRADITIONAL', 'DANCE', 'ELECTRONICA', 'EXPERIMENTAL',\n",
    "              'FOLK_INTERNATIONAL', 'GOSPEL', 'GRUNGE_EMO', 'HIP_HOP_RAP', 'JAZZ_CLASSIC', 'METAL_ALTERNATIVE',\n",
    "              'METAL_DEATH', 'METAL_HEAVY', 'POP_CONTEMPORARY', 'POP_INDIE', 'POP_LATIN', 'PUNK', 'REGGAE',\n",
    "              'RNB_SOUL', 'ROCK_ALTERNATIVE', 'ROCK_COLLEGE', 'ROCK_CONTEMPORARY', 'ROCK_HARD', 'ROCK_NEO_PSYCHEDELIA')\n",
    "MLPdecision(categories, 'sum')\n",
    "LDAdecision(categories, 'sum')\n",
    "SVMdecision(categories, 'sum')\n",
    "totalDecision(categories, 'sum')"
   ]
  },
  {
   "cell_type": "code",
   "execution_count": null,
   "metadata": {},
   "outputs": [],
   "source": []
  }
 ],
 "metadata": {
  "kernelspec": {
   "display_name": "Python 3",
   "language": "python",
   "name": "python3"
  },
  "language_info": {
   "codemirror_mode": {
    "name": "ipython",
    "version": 3
   },
   "file_extension": ".py",
   "mimetype": "text/x-python",
   "name": "python",
   "nbconvert_exporter": "python",
   "pygments_lexer": "ipython3",
   "version": "3.6.7"
  }
 },
 "nbformat": 4,
 "nbformat_minor": 2
}
